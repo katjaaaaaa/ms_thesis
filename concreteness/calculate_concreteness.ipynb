{
  "cells": [
    {
      "cell_type": "markdown",
      "source": [
        "# Predicting concreteness of model generated explanations\n",
        "Author: Katja Kamyshanova\n",
        "\n",
        "-----------\n",
        "The code below loads a regression model that predicts the concreteness scores for verbs, nouns, and adjectives in the generated explanations made by Qwen2-VL. The code that prepares the input and loads the model is adapted from Charbonnier and Wartena (2019). Please refer to their [paper](https://aclanthology.org/W19-0415/) and [GitHub page](https://github.com/textmining-hsh/Concreteness) for more information regarding the predictor input\n",
        "\n",
        "Adjust the location to the necessary files to your preferred location. The regression model and all necessary data aside from the word2vec file can be found in the `concreteness` directory on our GitHub: https://github.com/katjaaaaaa/ms_thesis\n"
      ],
      "metadata": {
        "id": "H2w23B_VJkgm"
      }
    },
    {
      "cell_type": "code",
      "execution_count": null,
      "metadata": {
        "id": "LFT3n_oWvuVv",
        "colab": {
          "base_uri": "https://localhost:8080/",
          "height": 1000
        },
        "outputId": "8d2af378-8113-401e-8ee4-23b9a1a99d13"
      },
      "outputs": [
        {
          "output_type": "stream",
          "name": "stdout",
          "text": [
            "Requirement already satisfied: numpy==1.26.4 in /usr/local/lib/python3.11/dist-packages (1.26.4)\n",
            "Collecting gensim==4.3.0\n",
            "  Using cached gensim-4.3.0-cp311-cp311-manylinux_2_17_x86_64.manylinux2014_x86_64.whl.metadata (8.4 kB)\n",
            "Requirement already satisfied: numpy>=1.18.5 in /usr/local/lib/python3.11/dist-packages (from gensim==4.3.0) (1.26.4)\n",
            "Requirement already satisfied: scipy>=1.7.0 in /usr/local/lib/python3.11/dist-packages (from gensim==4.3.0) (1.15.3)\n",
            "Requirement already satisfied: smart-open>=1.8.1 in /usr/local/lib/python3.11/dist-packages (from gensim==4.3.0) (7.3.0)\n",
            "Collecting FuzzyTM>=0.4.0 (from gensim==4.3.0)\n",
            "  Using cached FuzzyTM-2.0.9-py3-none-any.whl.metadata (7.9 kB)\n",
            "Requirement already satisfied: pandas in /usr/local/lib/python3.11/dist-packages (from FuzzyTM>=0.4.0->gensim==4.3.0) (2.2.2)\n",
            "Collecting pyfume (from FuzzyTM>=0.4.0->gensim==4.3.0)\n",
            "  Using cached pyFUME-0.3.4-py3-none-any.whl.metadata (9.7 kB)\n",
            "Requirement already satisfied: wrapt in /usr/local/lib/python3.11/dist-packages (from smart-open>=1.8.1->gensim==4.3.0) (1.17.2)\n",
            "Requirement already satisfied: python-dateutil>=2.8.2 in /usr/local/lib/python3.11/dist-packages (from pandas->FuzzyTM>=0.4.0->gensim==4.3.0) (2.9.0.post0)\n",
            "Requirement already satisfied: pytz>=2020.1 in /usr/local/lib/python3.11/dist-packages (from pandas->FuzzyTM>=0.4.0->gensim==4.3.0) (2025.2)\n",
            "Requirement already satisfied: tzdata>=2022.7 in /usr/local/lib/python3.11/dist-packages (from pandas->FuzzyTM>=0.4.0->gensim==4.3.0) (2025.2)\n",
            "Collecting scipy>=1.7.0 (from gensim==4.3.0)\n",
            "  Downloading scipy-1.10.1-cp311-cp311-manylinux_2_17_x86_64.manylinux2014_x86_64.whl.metadata (58 kB)\n",
            "\u001b[2K     \u001b[90m━━━━━━━━━━━━━━━━━━━━━━━━━━━━━━━━━━━━━━━━\u001b[0m \u001b[32m58.9/58.9 kB\u001b[0m \u001b[31m3.2 MB/s\u001b[0m eta \u001b[36m0:00:00\u001b[0m\n",
            "\u001b[?25hCollecting numpy>=1.18.5 (from gensim==4.3.0)\n",
            "  Downloading numpy-1.24.4-cp311-cp311-manylinux_2_17_x86_64.manylinux2014_x86_64.whl.metadata (5.6 kB)\n",
            "Collecting simpful==2.12.0 (from pyfume->FuzzyTM>=0.4.0->gensim==4.3.0)\n",
            "  Downloading simpful-2.12.0-py3-none-any.whl.metadata (4.8 kB)\n",
            "Collecting fst-pso==1.8.1 (from pyfume->FuzzyTM>=0.4.0->gensim==4.3.0)\n",
            "  Downloading fst-pso-1.8.1.tar.gz (18 kB)\n",
            "  Preparing metadata (setup.py) ... \u001b[?25l\u001b[?25hdone\n",
            "Collecting pandas (from FuzzyTM>=0.4.0->gensim==4.3.0)\n",
            "  Downloading pandas-1.5.3-cp311-cp311-manylinux_2_17_x86_64.manylinux2014_x86_64.whl.metadata (11 kB)\n",
            "Collecting miniful (from fst-pso==1.8.1->pyfume->FuzzyTM>=0.4.0->gensim==4.3.0)\n",
            "  Downloading miniful-0.0.6.tar.gz (2.8 kB)\n",
            "  Preparing metadata (setup.py) ... \u001b[?25l\u001b[?25hdone\n",
            "Requirement already satisfied: six>=1.5 in /usr/local/lib/python3.11/dist-packages (from python-dateutil>=2.8.2->pandas->FuzzyTM>=0.4.0->gensim==4.3.0) (1.17.0)\n",
            "Downloading gensim-4.3.0-cp311-cp311-manylinux_2_17_x86_64.manylinux2014_x86_64.whl (24.1 MB)\n",
            "\u001b[2K   \u001b[90m━━━━━━━━━━━━━━━━━━━━━━━━━━━━━━━━━━━━━━━━\u001b[0m \u001b[32m24.1/24.1 MB\u001b[0m \u001b[31m67.3 MB/s\u001b[0m eta \u001b[36m0:00:00\u001b[0m\n",
            "\u001b[?25hDownloading FuzzyTM-2.0.9-py3-none-any.whl (31 kB)\n",
            "Downloading pyFUME-0.3.4-py3-none-any.whl (60 kB)\n",
            "\u001b[2K   \u001b[90m━━━━━━━━━━━━━━━━━━━━━━━━━━━━━━━━━━━━━━━━\u001b[0m \u001b[32m60.3/60.3 kB\u001b[0m \u001b[31m4.3 MB/s\u001b[0m eta \u001b[36m0:00:00\u001b[0m\n",
            "\u001b[?25hDownloading numpy-1.24.4-cp311-cp311-manylinux_2_17_x86_64.manylinux2014_x86_64.whl (17.3 MB)\n",
            "\u001b[2K   \u001b[90m━━━━━━━━━━━━━━━━━━━━━━━━━━━━━━━━━━━━━━━━\u001b[0m \u001b[32m17.3/17.3 MB\u001b[0m \u001b[31m79.4 MB/s\u001b[0m eta \u001b[36m0:00:00\u001b[0m\n",
            "\u001b[?25hDownloading scipy-1.10.1-cp311-cp311-manylinux_2_17_x86_64.manylinux2014_x86_64.whl (34.1 MB)\n",
            "\u001b[2K   \u001b[90m━━━━━━━━━━━━━━━━━━━━━━━━━━━━━━━━━━━━━━━━\u001b[0m \u001b[32m34.1/34.1 MB\u001b[0m \u001b[31m16.5 MB/s\u001b[0m eta \u001b[36m0:00:00\u001b[0m\n",
            "\u001b[?25hDownloading pandas-1.5.3-cp311-cp311-manylinux_2_17_x86_64.manylinux2014_x86_64.whl (12.0 MB)\n",
            "\u001b[2K   \u001b[90m━━━━━━━━━━━━━━━━━━━━━━━━━━━━━━━━━━━━━━━━\u001b[0m \u001b[32m12.0/12.0 MB\u001b[0m \u001b[31m86.9 MB/s\u001b[0m eta \u001b[36m0:00:00\u001b[0m\n",
            "\u001b[?25hDownloading simpful-2.12.0-py3-none-any.whl (24 kB)\n",
            "Building wheels for collected packages: fst-pso, miniful\n",
            "  Building wheel for fst-pso (setup.py) ... \u001b[?25l\u001b[?25hdone\n",
            "  Created wheel for fst-pso: filename=fst_pso-1.8.1-py3-none-any.whl size=20431 sha256=76435b1462e01243a9655faaf0f5684e100d00525b69538f7af8db0e98779710\n",
            "  Stored in directory: /root/.cache/pip/wheels/69/f5/e5/18ad53fe1ed6b2af9fad05ec052e4acbac8e92441df44bad2e\n",
            "  Building wheel for miniful (setup.py) ... \u001b[?25l\u001b[?25hdone\n",
            "  Created wheel for miniful: filename=miniful-0.0.6-py3-none-any.whl size=3506 sha256=a06e4d4522d73f5fbdecea342c1eb9d7a74bb2b5887eb3f3d75d549120c41d76\n",
            "  Stored in directory: /root/.cache/pip/wheels/9d/ff/2f/afe4cd56f47de147407705626517d68bea0f3b74eb1fb168e6\n",
            "Successfully built fst-pso miniful\n",
            "Installing collected packages: numpy, scipy, pandas, simpful, miniful, fst-pso, pyfume, FuzzyTM, gensim\n",
            "  Attempting uninstall: numpy\n",
            "    Found existing installation: numpy 1.26.4\n",
            "    Uninstalling numpy-1.26.4:\n",
            "      Successfully uninstalled numpy-1.26.4\n",
            "  Attempting uninstall: scipy\n",
            "    Found existing installation: scipy 1.15.3\n",
            "    Uninstalling scipy-1.15.3:\n",
            "      Successfully uninstalled scipy-1.15.3\n",
            "  Attempting uninstall: pandas\n",
            "    Found existing installation: pandas 2.2.2\n",
            "    Uninstalling pandas-2.2.2:\n",
            "      Successfully uninstalled pandas-2.2.2\n",
            "\u001b[31mERROR: pip's dependency resolver does not currently take into account all the packages that are installed. This behaviour is the source of the following dependency conflicts.\n",
            "google-colab 1.0.0 requires pandas==2.2.2, but you have pandas 1.5.3 which is incompatible.\n",
            "thinc 8.3.6 requires numpy<3.0.0,>=2.0.0, but you have numpy 1.24.4 which is incompatible.\n",
            "treescope 0.1.9 requires numpy>=1.25.2, but you have numpy 1.24.4 which is incompatible.\n",
            "tsfresh 0.21.0 requires scipy>=1.14.0; python_version >= \"3.10\", but you have scipy 1.10.1 which is incompatible.\n",
            "dask-expr 1.1.21 requires pandas>=2, but you have pandas 1.5.3 which is incompatible.\n",
            "xarray 2025.3.1 requires pandas>=2.1, but you have pandas 1.5.3 which is incompatible.\n",
            "plotnine 0.14.6 requires pandas>=2.2.0, but you have pandas 1.5.3 which is incompatible.\n",
            "dask-cudf-cu12 25.2.2 requires pandas<2.2.4dev0,>=2.0, but you have pandas 1.5.3 which is incompatible.\n",
            "tensorflow 2.18.0 requires numpy<2.1.0,>=1.26.0, but you have numpy 1.24.4 which is incompatible.\n",
            "cudf-cu12 25.2.1 requires pandas<2.2.4dev0,>=2.0, but you have pandas 1.5.3 which is incompatible.\n",
            "mizani 0.13.5 requires pandas>=2.2.0, but you have pandas 1.5.3 which is incompatible.\n",
            "pymc 5.23.0 requires numpy>=1.25.0, but you have numpy 1.24.4 which is incompatible.\n",
            "scikit-image 0.25.2 requires scipy>=1.11.4, but you have scipy 1.10.1 which is incompatible.\n",
            "jaxlib 0.5.1 requires numpy>=1.25, but you have numpy 1.24.4 which is incompatible.\n",
            "jaxlib 0.5.1 requires scipy>=1.11.1, but you have scipy 1.10.1 which is incompatible.\n",
            "blosc2 3.5.0 requires numpy>=1.26, but you have numpy 1.24.4 which is incompatible.\n",
            "jax 0.5.2 requires numpy>=1.25, but you have numpy 1.24.4 which is incompatible.\n",
            "jax 0.5.2 requires scipy>=1.11.1, but you have scipy 1.10.1 which is incompatible.\n",
            "xarray-einstats 0.9.1 requires numpy>=1.25, but you have numpy 1.24.4 which is incompatible.\n",
            "xarray-einstats 0.9.1 requires scipy>=1.11, but you have scipy 1.10.1 which is incompatible.\n",
            "cvxpy 1.6.6 requires scipy>=1.11.0, but you have scipy 1.10.1 which is incompatible.\u001b[0m\u001b[31m\n",
            "\u001b[0mSuccessfully installed FuzzyTM-2.0.9 fst-pso-1.8.1 gensim-4.3.0 miniful-0.0.6 numpy-1.24.4 pandas-1.5.3 pyfume-0.3.4 scipy-1.10.1 simpful-2.12.0\n"
          ]
        },
        {
          "output_type": "display_data",
          "data": {
            "application/vnd.colab-display-data+json": {
              "pip_warning": {
                "packages": [
                  "numpy"
                ]
              },
              "id": "e320955af65a41d4aca3183f6242c950"
            }
          },
          "metadata": {}
        }
      ],
      "source": [
        "!pip install numpy==1.26.4\n",
        "!pip install gensim==4.3.0\n",
        "# !pip install gensim --no-binary :all:\n",
        "# https://github.com/piskvorky/gensim/issues/3226#issuecomment-1525101465"
      ]
    },
    {
      "cell_type": "code",
      "execution_count": null,
      "metadata": {
        "id": "CpSn5WJAtgmb"
      },
      "outputs": [],
      "source": [
        "import pickle\n",
        "import io\n",
        "import gensim\n",
        "import nltk\n",
        "import numpy as np\n",
        "import pickle\n",
        "import matplotlib.pyplot as plt\n",
        "\n",
        "from collections import Counter\n",
        "\n",
        "from gensim.test.utils import get_tmpfile\n",
        "from gensim.models import KeyedVectors\n",
        "\n",
        "from math import*\n",
        "from nltk.stem.porter import *\n",
        "from nltk.corpus import wordnet as wn\n",
        "\n",
        "from sklearn.metrics import r2_score, mean_squared_error, make_scorer\n",
        "from sklearn.model_selection  import KFold, cross_val_score\n",
        "from sklearn import svm\n",
        "from sklearn import datasets, linear_model, model_selection\n",
        "\n",
        "from scipy.stats import pearsonr\n",
        "from scipy.stats import spearmanr\n",
        "from scipy.spatial.distance import jaccard\n",
        "from scipy.stats import kendalltau\n",
        "\n",
        "model_name=\"ft\"\n",
        "\n",
        "feature_vector={\n",
        "    \"emb\":True,\n",
        "    \"Suffix\":True,\n",
        "    \"POS\":True\n",
        "}"
      ]
    },
    {
      "cell_type": "code",
      "execution_count": null,
      "metadata": {
        "colab": {
          "base_uri": "https://localhost:8080/"
        },
        "id": "ilxJGf3tulmv",
        "outputId": "a69cc78a-e6af-445a-a0b9-ab83380a6c94"
      },
      "outputs": [
        {
          "output_type": "stream",
          "name": "stdout",
          "text": [
            "Mounted at /content/gdrive\n"
          ]
        }
      ],
      "source": [
        "# Connect to drive\n",
        "from google.colab import drive\n",
        "drive.mount('/content/gdrive', force_remount=True)"
      ]
    },
    {
      "cell_type": "code",
      "execution_count": null,
      "metadata": {
        "id": "to1BZz1LvVaV"
      },
      "outputs": [],
      "source": [
        "HEAD_DIR = \"/content/gdrive/MyDrive/MS_postprocess_code\""
      ]
    },
    {
      "cell_type": "markdown",
      "metadata": {
        "id": "IwrsqTRctgme"
      },
      "source": [
        "# Load word2vec as input for the predictor"
      ]
    },
    {
      "cell_type": "code",
      "execution_count": null,
      "metadata": {
        "id": "p9MqMSSctgmf"
      },
      "outputs": [],
      "source": [
        "def load_vectors(fname):\n",
        "    reloaded_word_vectors = KeyedVectors.load_word2vec_format(fname)\n",
        "    return reloaded_word_vectors\n",
        "\n",
        "# Load pretrained word2vec model\n",
        "model=load_vectors(f\"{HEAD_DIR}/concreteness/data/crawl-300d-2M-subword.vec\")\n"
      ]
    },
    {
      "cell_type": "markdown",
      "metadata": {
        "id": "weMhOWNmtgmf"
      },
      "source": [
        "# Helper"
      ]
    },
    {
      "cell_type": "code",
      "execution_count": null,
      "metadata": {
        "id": "BTkOLbd9tgmg"
      },
      "outputs": [],
      "source": [
        "def getAllPostfix(s):\n",
        "    if len(s)>3:\n",
        "        return [s[-1:],s[-2:],s[-3:],s[-4:]]\n",
        "    elif len(s)==3:\n",
        "        return [s[-1:],s[-2:],s[-3:]]\n",
        "    elif len(s)==2:\n",
        "        return [s[-1:],s[-2:]]\n",
        "    elif len(s)==1:\n",
        "        return [s]\n",
        "    else:\n",
        "        return [\"\"]\n",
        "\n",
        "def getPostfixVec(s,mc,dim=100):\n",
        "    vec=[0]*dim\n",
        "    Post=getAllPostfix(s)\n",
        "    for i in range(dim):\n",
        "        if mc[i] in Post:\n",
        "            vec[i]=1\n",
        "    return vec\n",
        "\n",
        "def getPorterVec(s,mc,dim=150):\n",
        "    vec=[0]*dim\n",
        "    Post=getPorterRest(s)\n",
        "    for i in range(dim):\n",
        "        if mc[i] == Post:\n",
        "            vec[i]=1\n",
        "    return vec\n",
        "\n",
        "endingDir={}\n",
        "endingList=[]"
      ]
    },
    {
      "cell_type": "code",
      "execution_count": null,
      "metadata": {
        "id": "tf2W39hwtgmg"
      },
      "outputs": [],
      "source": [
        "stemmer = PorterStemmer()\n",
        "def getPorterRest(s):\n",
        "    stem=stemmer.stem(s)\n",
        "    ret=\"\"\n",
        "    for k in range(len(s)-len(stem)):\n",
        "        ret+=(s[len(stem)+k])\n",
        "    return ret\n",
        "porterList=[]"
      ]
    },
    {
      "cell_type": "code",
      "execution_count": null,
      "metadata": {
        "id": "C9-D84cbtgmg"
      },
      "outputs": [],
      "source": [
        "def getVecFromPos(s):\n",
        "    vec=[]\n",
        "    if s=='a':\n",
        "        vec=[1,0,0,0,0,0]\n",
        "    if s=='n':\n",
        "        vec=[0,1,0,0,0,0]\n",
        "    if s=='p':\n",
        "        vec=[0,0,1,0,0,0]\n",
        "    if s=='r':\n",
        "        vec=[0,0,0,1,0,0]\n",
        "    if s=='s':\n",
        "        vec=[0,0,0,0,1,0]\n",
        "    if s=='v':\n",
        "        vec=[0,0,0,0,0,1]\n",
        "    return vec#np.asarray(vec)"
      ]
    },
    {
      "cell_type": "code",
      "execution_count": null,
      "metadata": {
        "id": "M_f2z8N8tgmh"
      },
      "outputs": [],
      "source": [
        "def getPos(w):\n",
        "    poss=[]\n",
        "    posSum=0\n",
        "    posfreqs = {'n':0,'v':0,'a':0,'p':0,'r':0,'s':0}\n",
        "    found=False\n",
        "    for syns in wn.synsets(w):\n",
        "        p = syns.pos()\n",
        "        if p not in poss:\n",
        "            poss.append(p)\n",
        "        count = posfreqs.get(p,0)\n",
        "        for l in syns.lemmas():\n",
        "            count += l.count()\n",
        "            if count>0:\n",
        "                found=True\n",
        "        posfreqs[p] = count\n",
        "    if found:\n",
        "        for fr in posfreqs:\n",
        "            posSum+=posfreqs[fr]\n",
        "        pos=[posfreqs['n']/posSum,posfreqs['v']/posSum,posfreqs['a']/posSum,posfreqs['p']/posSum,posfreqs['r']/posSum,posfreqs['s']/posSum]\n",
        "    else:\n",
        "        tags = nltk.pos_tag([w])\n",
        "        tag = tags[0][1]\n",
        "        if tag[0] == 'R':\n",
        "            pos = 'r'\n",
        "            pos=[0,0,0,0,1,0]\n",
        "        elif tag[0] == 'J':\n",
        "            pos = 'a'\n",
        "            pos=[0,0,1,0,0,0]\n",
        "        elif tag[0] == 'V':\n",
        "            pos = 'v'\n",
        "            pos=[0,1,0,0,0,0]\n",
        "        elif tag == 'IN':\n",
        "            pos = 'p'\n",
        "            pos=[0,0,0,1,0,0]\n",
        "        else:\n",
        "            pos = 'n'\n",
        "            pos=[1,0,0,0,0,0]\n",
        "    return pos\n",
        "\n",
        "\n",
        "def transformScale(old_value, old_min = 1, old_max = 7, new_min = 1, new_max = 5):\n",
        "    new_value = ( (old_value - old_min) / (old_max - old_min) ) * (new_max - new_min) + new_min\n",
        "    if new_value>new_max:\n",
        "        print(\"new_value > max\")\n",
        "    return new_value"
      ]
    },
    {
      "cell_type": "code",
      "execution_count": null,
      "metadata": {
        "id": "RSVAdrdFtgmh"
      },
      "outputs": [],
      "source": [
        "def jaccard_similarity(x,y,verbose=0):\n",
        "\n",
        "    intersection_cardinality = len(set.intersection(*[set(x), set(y)]))\n",
        "    union_cardinality = len(set.union(*[set(x), set(y)]))\n",
        "    if verbose>0:\n",
        "        print(\"\\n Intersection Cardinality: \"+str(intersection_cardinality))\n",
        "        print(\"Unity Cardinality: \"+str(union_cardinality))\n",
        "        print(\"\\n\")\n",
        "    return intersection_cardinality/float(union_cardinality)\n",
        "\n",
        "\n",
        "def getFeature(w,embeddingmodel=model,emb=True,POS=True,Post=True,verbose=0):\n",
        "    emb=feature_vector[\"emb\"]\n",
        "    POS=feature_vector[\"POS\"]\n",
        "    Post=feature_vector[\"Suffix\"]\n",
        "    vect=[]\n",
        "    vect=np.asarray(vect)\n",
        "    if verbose>0:\n",
        "        print(feature_vector)\n",
        "    vect=np.append(vect,model[w])\n",
        "    vect=np.append(vect,getPos(w))\n",
        "    vect=np.append(vect,getPostfixVec(w,most_common_ending,dim=200))\n",
        "    return vect\n",
        "\n",
        "def getPrediction(vec,trained_model):\n",
        "    return trained_model.predict([vec])\n",
        "\n",
        "def get_r2_numpy_corrcoef(x, y):\n",
        "    return np.corrcoef(x, y)[0, 1]**2\n",
        "\n",
        "def getOwnR2(x,y):\n",
        "    x=np.asarray(x)\n",
        "    y=np.asarray(y)\n",
        "    x_mean=x.mean()\n",
        "    y_mean=y.mean()\n",
        "    defined_var=0\n",
        "    total_var=0\n",
        "    undefined_var=0\n",
        "    for i in range(len(y)):\n",
        "        undefined_var+= (x[i]-y[i])**2\n",
        "        defined_var += (y[i]-x_mean)**2\n",
        "        total_var += (x[i]-x_mean)**2\n",
        "\n",
        "    r2_val=defined_var/total_var\n",
        "    r2_val2=1-(undefined_var/total_var)\n",
        "    return r2_val,r2_val2\n",
        "\n",
        "\n",
        "def evalModel(listA,listB,own=False,):\n",
        "    r_score=r2_score(listA,listB)\n",
        "    p_score=pearsonr(listA,listB)\n",
        "    s_score=spearmanr(listA,listB)\n",
        "    np_score=get_r2_numpy_corrcoef(listA,listB)\n",
        "    mse_score=mean_squared_error(listA,listB)\n",
        "    r2_o,r2_o2=getOwnR2(listA,listB)\n",
        "    tau_score=kendalltau(listA,listB)\n",
        "    if own:\n",
        "        print(\"\\n########  OWN  ###########\\n\")\n",
        "        print(\" r2: \"+str(r2_o))\n",
        "        print(\"own r2_2: \"+str(r2_o2))\n",
        "    print(\"\\n######## CUSTOM ###########\\n\")\n",
        "    print(\"Pearson: \"+str(p_score))\n",
        "    print(\"Kendall: \"+str(tau_score))\n",
        "    print(\"Spearman: \"+str(s_score))\n",
        "    print(\"Pearson**2: \"+str(np_score))\n",
        "    print(\"R^2 Score: \"+str(r_score))\n",
        "    print(\"MSE: \"+str(mse_score))\n",
        "    print(\"\\n##########################\\n\")"
      ]
    },
    {
      "cell_type": "markdown",
      "metadata": {
        "id": "c8J-GgeDtgmj"
      },
      "source": [
        "# Prepare the input for Concreteness Predictor"
      ]
    },
    {
      "cell_type": "code",
      "execution_count": null,
      "metadata": {
        "id": "mNgUn7wjtgmj"
      },
      "outputs": [],
      "source": [
        "import json\n",
        "\n",
        "def mt40k_mirage(f):\n",
        "    words = []\n",
        "\n",
        "    vectorDic={}\n",
        "    concDic={}\n",
        "    dat=[]\n",
        "    tar=[]\n",
        "    reg=[]\n",
        "    std=[]\n",
        "    tarstd=[]\n",
        "    numKeyError=0\n",
        "    raw=[]\n",
        "    MT40K=[]\n",
        "    MT40K_allWords=[]\n",
        "    MT40KnoEmb=[]\n",
        "    MT40K_twophrase=[]\n",
        "    entries = []\n",
        "\n",
        "    nltk.download('wordnet')\n",
        "    nltk.download('averaged_perceptron_tagger_eng')\n",
        "\n",
        "    with open(f\"{HEAD_DIR}/concreteness/data/{f}.json\") as f:\n",
        "        data_dict = json.load(f)\n",
        "        for _, data in data_dict.items():\n",
        "            for k in (\"zero-shot\", \"few-shot\"):\n",
        "                if k not in data:\n",
        "                    continue\n",
        "                for vlm, answers in data[k].items():\n",
        "                    if isinstance(answers, dict):\n",
        "                        entries.append([k, vlm, answers[\"model_explanation\"]])\n",
        "                        words.append(answers[\"concreteness_words\"])\n",
        "\n",
        "    fout = open(f\"{HEAD_DIR}/concreteness/data/concreteness_pos.txt\", 'w')\n",
        "\n",
        "    ######################\n",
        "    CP_wordlist=[]\n",
        "    TWP_wordlist=[]\n",
        "    CPExt_wordlist=[]\n",
        "    skipped_content=0\n",
        "    for entry in words:\n",
        "        dat_s, tar_s = [], []\n",
        "        std_s, tarstd_s = [], []\n",
        "        MT40K_s = []\n",
        "        for w in entry:\n",
        "            if int(w[1]) == 0:\n",
        "                posfreqs = {}\n",
        "                for syns in wn.synsets(w[0]):\n",
        "                    p = syns.pos()\n",
        "                    count = posfreqs.get(p,0)\n",
        "                    for l in syns.lemmas():\n",
        "                        count += l.count()\n",
        "                    posfreqs[p] = count\n",
        "                posfreqs = sorted(posfreqs.items(),key = lambda x:x[1],reverse = True)\n",
        "                if len(posfreqs) > 0:\n",
        "                    pos = posfreqs[0][0]\n",
        "                else:\n",
        "                    tags = nltk.pos_tag([w[0]])\n",
        "                    tag = tags[0][1]\n",
        "                    if tag[0] == 'R':\n",
        "                        pos = 'r'\n",
        "                    elif tag[0] == 'J':\n",
        "                        pos = 'a'\n",
        "                    elif tag[0] == 'V':\n",
        "                        pos = 'v'\n",
        "                    elif tag == 'IN':\n",
        "                        pos = 'p'\n",
        "                    elif tag[0] == 'N' and tag[:3] != \"NNP\":\n",
        "                        pos = 'n'\n",
        "\n",
        "                w1 = [w[0],pos]+w[1:]\n",
        "\n",
        "                for wi in getAllPostfix(w[0]):\n",
        "\n",
        "                    endingList.extend([wi])\n",
        "                porterList.append(getPorterRest(w[0]))\n",
        "                ########\n",
        "\n",
        "                if w1[2]==0: #Bigramm=0 == only one word\n",
        "                    corVal = w1[3]\n",
        "                    corStd = w1[4] # these values are all 0\n",
        "                    try:\n",
        "\n",
        "                        #vectorDic[w1[0]]=model[w1[0]]\n",
        "                        concDic[w1[0]]=corVal\n",
        "\n",
        "                        #Feature Vector\n",
        "                        vect=getFeature(w1[0],emb=True,POS=True,Post=True)\n",
        "\n",
        "                        #Save for Eval\n",
        "                        MT40K_s.append((w1[0],getPos(w1[0]),corVal,corStd)) #1=word,2=pos,3=conc,4=std\n",
        "\n",
        "                        # Store each word in an array\n",
        "                        dat_s.append(np.asarray(vect))\n",
        "                        tar_s.append(float(corVal))\n",
        "                        std_s.append(float(corStd))\n",
        "                        tarstd_s.append([float(corVal),float(corStd)])\n",
        "                        raw.append(w1)\n",
        "                    except KeyError:\n",
        "                        numKeyError+=1\n",
        "                        MT40KnoEmb.append(w1[0])\n",
        "\n",
        "        # Store each entry as an array\n",
        "        MT40K.append(MT40K_s)\n",
        "        dat.append(dat_s)\n",
        "        tar.append(np.asarray(tar_s))\n",
        "        std.append(np.asarray(std_s))\n",
        "        tarstd.append(np.asarray(tarstd_s))\n",
        "\n",
        "    fout.close()\n",
        "    dat=np.asarray(dat, dtype=\"object\")\n",
        "    tar=np.asarray(tar, dtype=\"object\")\n",
        "    std=np.asarray(std, dtype=\"object\")\n",
        "    print(\"allWords: \",len(words))\n",
        "    print(\"skipped_content: \",skipped_content)\n",
        "    print(\"no embedding: \",numKeyError)\n",
        "    print(\"\\nMT40k:\",len(MT40K))\n",
        "    print(\"MT40k all 1-phrase words: \",len(MT40K_allWords))\n",
        "    print(\"MT40k 2-Phrase: \",len(MT40K_twophrase))\n",
        "    print(\"MT40k Union: \",len(MT40K_allWords)+len(MT40K_twophrase))\n",
        "\n",
        "    return MT40K, dat, tar, std, tarstd, entries"
      ]
    },
    {
      "cell_type": "code",
      "execution_count": null,
      "metadata": {
        "id": "FgRsqdKRtgmk"
      },
      "outputs": [],
      "source": [
        "c_p =Counter(porterList).most_common(200)\n",
        "c_e =Counter(endingList).most_common(200)\n",
        "\n",
        "most_common_porter=[]\n",
        "most_common_ending=[]\n",
        "for t in c_p:\n",
        "    most_common_porter.append(t[0])\n",
        "for t in c_e:\n",
        "    most_common_ending.append(t[0])"
      ]
    },
    {
      "cell_type": "code",
      "execution_count": null,
      "metadata": {
        "id": "fiKMwYcmtgmg"
      },
      "outputs": [],
      "source": [
        "with open(f'{HEAD_DIR}/concreteness/data/most_common_ending.pkl', 'rb') as f:\n",
        "    most_common_ending = pickle.load(f)\n",
        "with open(f'{HEAD_DIR}/concreteness/data/most_common_porter.pkl', 'rb') as f:\n",
        "    most_common_porter = pickle.load(f)"
      ]
    },
    {
      "cell_type": "markdown",
      "metadata": {
        "id": "fZjvbtJItgmm"
      },
      "source": [
        "# Predict the concreteness for the input files"
      ]
    },
    {
      "cell_type": "code",
      "source": [
        "with open(f\"{HEAD_DIR}/concreteness/Concreteness.model\", \"rb\") as f:\n",
        "    svr = pickle.load(f)"
      ],
      "metadata": {
        "id": "agvWmgaj7Sbd"
      },
      "execution_count": null,
      "outputs": []
    },
    {
      "cell_type": "code",
      "source": [
        "from collections import defaultdict\n",
        "\n",
        "def nested_dict():\n",
        "    return defaultdict(nested_dict)"
      ],
      "metadata": {
        "id": "6X5Y37fUcMqc"
      },
      "execution_count": null,
      "outputs": []
    },
    {
      "cell_type": "code",
      "source": [
        "input_files = [\n",
        "            # \"features_few-shot_5065_154_7879_2_5004_78_071436_28_06_2025_plo_test\"\n",
        "               \"negation_features_true_positive\",\n",
        "               \"negation_features_false_positive\",\n",
        "               \"negation_features_true_negative\",\n",
        "               \"negation_features_false_negative\",\n",
        "               ]"
      ],
      "metadata": {
        "id": "zRDk0HX8pVec"
      },
      "execution_count": null,
      "outputs": []
    },
    {
      "cell_type": "code",
      "source": [
        "for f in input_files:\n",
        "    # Get the necessary for the regressor data\n",
        "    MT40K, dat, tar, std, tarstd, entries = mt40k_mirage(f)\n",
        "    c_dict = nested_dict()\n",
        "    scores_list = []\n",
        "    word_score_list = {}\n",
        "\n",
        "    # Make predictions\n",
        "    for entry in dat:\n",
        "        scores_list.append(svr.predict(entry))\n",
        "    print(f\"-------FILENAME: {f}-------\")\n",
        "\n",
        "    # Evaluate predictions per model\n",
        "    for i, entry in enumerate(MT40K):\n",
        "        c_mean = []\n",
        "        c_dict[entries[i][0]][entries[i][1]] = c_dict[entries[i][0]].get(entries[i][1], [])\n",
        "        for g, w in enumerate(entry):\n",
        "            c_mean.append(scores_list[i][g])\n",
        "            word_score_list[w[0]] = scores_list[i][g]\n",
        "        c_dict[entries[i][0]][entries[i][1]].append(np.mean(c_mean))\n",
        "\n",
        "    for k, data in c_dict.items():\n",
        "        print(f\"PROMPT TYPE: {k}\")\n",
        "        for m, s in data.items():\n",
        "            print(f\"{m} CONCRETENESS MEAN: {np.mean(s)}\")\n",
        "        print()\n",
        "\n",
        "    with open(f\"{HEAD_DIR}/concreteness/data/{f}.json\") as file:\n",
        "            data_dict = json.load(file)\n",
        "            for _, data in data_dict.items():\n",
        "                for k in (\"zero-shot\", \"few-shot\"):\n",
        "                    if k not in data:\n",
        "                        continue\n",
        "                    for vlm, answers in data[k].items():\n",
        "                        if isinstance(answers, dict):\n",
        "                            for i, w in enumerate(answers[\"concreteness_words\"]):\n",
        "                                if w[0] in word_score_list.keys():\n",
        "                                    answers[\"concreteness_words\"][i][2] = word_score_list[w[0]]\n",
        "\n",
        "    print()\n",
        "\n",
        "    with open(f\"{HEAD_DIR}/specificity/data/{f}_concrete.json\", \"w\") as file:\n",
        "        json.dump(data_dict, file, indent=2)"
      ],
      "metadata": {
        "colab": {
          "base_uri": "https://localhost:8080/"
        },
        "id": "srUNOGAmlY_E",
        "outputId": "90126332-1cff-407f-9120-b4ee3c669509"
      },
      "execution_count": null,
      "outputs": [
        {
          "output_type": "stream",
          "name": "stderr",
          "text": [
            "[nltk_data] Downloading package wordnet to /root/nltk_data...\n",
            "[nltk_data]   Package wordnet is already up-to-date!\n",
            "[nltk_data] Downloading package averaged_perceptron_tagger_eng to\n",
            "[nltk_data]     /root/nltk_data...\n",
            "[nltk_data]   Package averaged_perceptron_tagger_eng is already up-to-\n",
            "[nltk_data]       date!\n"
          ]
        },
        {
          "output_type": "stream",
          "name": "stdout",
          "text": [
            "allWords:  2498\n",
            "skipped_content:  0\n",
            "no embedding:  38\n",
            "\n",
            "MT40k: 2498\n",
            "MT40k all 1-phrase words:  0\n",
            "MT40k 2-Phrase:  0\n",
            "MT40k Union:  0\n",
            "-------FILENAME: features_few-shot_5065_154_7879_2_5004_78_071436_28_06_2025_plo_test-------\n",
            "PROMPT TYPE: few-shot\n",
            "Qwen/Qwen2-VL-7B-Instruct CONCRETENESS MEAN: 3.0434027319352075\n",
            "\n",
            "\n"
          ]
        }
      ]
    },
    {
      "cell_type": "markdown",
      "source": [
        "## Get the average concreteness per input file"
      ],
      "metadata": {
        "id": "ZFyVVJCiIHpm"
      }
    },
    {
      "cell_type": "code",
      "source": [
        "from scipy.stats import skew, kurtosis\n",
        "import json\n",
        "import numpy as np"
      ],
      "metadata": {
        "id": "p1okWtlSOc0j"
      },
      "execution_count": null,
      "outputs": []
    },
    {
      "cell_type": "code",
      "source": [
        "for f in input_files:\n",
        "    c_mean = []\n",
        "    count_wrong_output_high = set()\n",
        "    count_wrong_output_low = set()\n",
        "    with open(f\"{HEAD_DIR}/specificity/data/{f}_concrete.json\") as file:\n",
        "        data_dict = json.load(file)\n",
        "    print(f\"NUMBER OF ENTRIES: {len(data_dict)}\")\n",
        "    for _, data in data_dict.items():\n",
        "        for k in (\"zero-shot\", \"few-shot\"):\n",
        "            if k not in data:\n",
        "                continue\n",
        "            for vlm, answers in data[k].items():\n",
        "                if isinstance(answers, dict):\n",
        "                    for w in answers[\"concreteness_words\"]:\n",
        "                        if w[2] > 5:\n",
        "                            count_wrong_output_high.add(w[0])\n",
        "                            w[2] = 5\n",
        "                        elif w[2] < 1:\n",
        "                            count_wrong_output_low.add(w[0])\n",
        "                            w[2] = 1\n",
        "                        c_mean.append(w[2])\n",
        "\n",
        "    # get_hist(f, c_mean)\n",
        "    print(f\"CONCRETENESS {f} MEAN: {round(np.mean(c_mean), 4)} SD: {round(np.std(c_mean), 4)}\")\n",
        "    print(f\"SKEWNESS: {skew(c_mean)}\")\n",
        "    print(f\"KURTOSIS: {kurtosis(c_mean)}\")\n",
        "    print(f\"N WORDS WITH CONCRETENESS > 5: {len(count_wrong_output_high)}, WORDS: {count_wrong_output_high}\")\n",
        "    print(f\"N WORDS WITH CONCRETENESS < 1: {len(count_wrong_output_low)}, WORDS: {count_wrong_output_low}\")\n",
        "    print()"
      ],
      "metadata": {
        "colab": {
          "base_uri": "https://localhost:8080/"
        },
        "id": "JMpvwBI0_2tb",
        "outputId": "a899b66c-c385-4acc-988d-451f630ca560"
      },
      "execution_count": null,
      "outputs": [
        {
          "output_type": "stream",
          "name": "stdout",
          "text": [
            "NUMBER OF ENTRIES: 998\n",
            "CONCRETENESS negation_features_true_positive MEAN: 3.0717 SD: 0.8095\n",
            "SKEWNESS: 0.31664064108283896\n",
            "KURTOSIS: -0.633771258499439\n",
            "N WORDS WITH CONCRETENESS > 5: 68, WORDS: {'belt', 'rice', 'pizza', 'bone', 'van', 'casket', 'soap', 'knee', 'milk', 'hair', 'scarf', 'helmet', 'chair', 'steel', 'glass', 'farm', 'arm', 'crane', 'beard', 'wall', 'pink', 'drum', 'bike', 'sky', 'gown', 'cone', 'pie', 'head', 'hole', 'palm', 'tree', 'truck', 'gun', 'desk', 'box', 'wire', 'tin', 'rifle', 'roof', 'bird', 'ball', 'coffin', 'shirt', 'bag', 'red', 'coat', 'snow', 'bat', 'jawbone', 'crib', 'oil', 'bus', 'pipe', 'bed', 'dog', 'carpet', 'tv', 'lorry', 'spear', 'sash', 'burqa', 'turtle', 'gas', 'car', 'hat', 'boat', 'eel', 'tape'}\n",
            "N WORDS WITH CONCRETENESS < 1: 7, WORDS: {'smartwatche', 'lgbtq+', 'mercede', 'longliste', 'longine', 'deceuninck', 'emptive'}\n",
            "\n",
            "NUMBER OF ENTRIES: 217\n",
            "CONCRETENESS negation_features_false_positive MEAN: 3.0361 SD: 0.8181\n",
            "SKEWNESS: 0.3993014414611634\n",
            "KURTOSIS: -0.6158290712113348\n",
            "N WORDS WITH CONCRETENESS > 5: 40, WORDS: {'toy', 'van', 'knee', 'bar', 'hair', 'tank', 'chair', 'glass', 'gavel', 'farm', 'crane', 'beard', 'wall', 'sky', 'door', 'hole', 'pen', 'palm', 'tree', 'truck', 'desk', 'tape', 'wire', 'clay', 'ball', 'bag', 'shirt', 'robe', 'red', 'lab', 'coat', 'oil', 'bed', 'lorry', 'cup', 'gas', 'car', 'hat', 'boat', 'sled'}\n",
            "N WORDS WITH CONCRETENESS < 1: 3, WORDS: {'smartwatche', 'diconsene', 'astrophysic'}\n",
            "\n",
            "NUMBER OF ENTRIES: 1033\n",
            "CONCRETENESS negation_features_true_negative MEAN: 2.9906 SD: 0.7828\n",
            "SKEWNESS: 0.5138176400777158\n",
            "KURTOSIS: -0.43190087869939076\n",
            "N WORDS WITH CONCRETENESS > 5: 89, WORDS: {'cage', 'toy', 'pizza', 'ice', 'fist', 'hair', 'scarf', 'glass', 'arm', 'knife', 'beard', 'pink', 'jet', 'skull', 'clay', 'ball', 'robe', 'coat', 'red', 'snow', 'bus', 'pillow', 'dock', 'gym', 'burqa', 'boat', 'sled', 'moon', 'milk', 'bread', 'lamp', 'helmet', 'wall', 'door', 'head', 'truck', 'wire', 'bird', 'bag', 'lab', 'toilet', 'pipe', 'dog', 'bulb', 'cube', 'car', 'beer', 'tape', 'rice', 'van', 'tank', 'chair', 'sun', 'taxi', 'bowl', 'lawn', 'hole', 'pen', 'rock', 'yard', 'tin', 'coffin', 'shirt', 'cell', 'bat', 'tv', 'bed', 'jar', 'cup', 'hat', 'rope', 'chest', 'knee', 'bar', 'gavel', 'bike', 'sky', 'moss', 'palm', 'tree', 'gun', 'desk', 'box', 'rifle', 'oil', 'spear', 'turtle', 'corn', 'gas'}\n",
            "N WORDS WITH CONCRETENESS < 1: 20, WORDS: {'epiigenetics', 'attempe', 'scamme', 'deepfake', 'denisovan', 'sliggle', 'roited', 'excudste', 'deedeatte', 'polige', 'tillcennuniccation', 'emptive', 'guearm', 'shakeerr', 'loommed', 'outstretche', 'astrophysic', 'contumer', 'presiticism', 'imvoventing'}\n",
            "\n",
            "NUMBER OF ENTRIES: 254\n",
            "CONCRETENESS negation_features_false_negative MEAN: 3.038 SD: 0.8053\n",
            "SKEWNESS: 0.42975235238659915\n",
            "KURTOSIS: -0.5546559183384359\n",
            "N WORDS WITH CONCRETENESS > 5: 43, WORDS: {'bread', 'fist', 'lamp', 'hair', 'helmet', 'chair', 'glass', 'knife', 'crane', 'pink', 'wall', 'meat', 'jet', 'brick', 'soda', 'bowl', 'head', 'palm', 'rock', 'tree', 'truck', 'gun', 'box', 'wire', 'cat', 'ball', 'soup', 'shirt', 'wrist', 'red', 'robe', 'toilet', 'sled', 'oil', 'tv', 'bed', 'dog', 'bulb', 'corn', 'car', 'hat', 'boat', 'beer'}\n",
            "N WORDS WITH CONCRETENESS < 1: 1, WORDS: {'aspo'}\n",
            "\n"
          ]
        }
      ]
    },
    {
      "cell_type": "markdown",
      "source": [
        "## Get the average concreteness for nouns, adjectives or verbs only"
      ],
      "metadata": {
        "id": "jHPxFTWpIf3D"
      }
    },
    {
      "cell_type": "code",
      "source": [
        "# removing verbs from the mean\n",
        "avg_mean = []\n",
        "for f in input_files:\n",
        "    adj_list, adj_conc_scores = [], []\n",
        "    noun_list, noun_conc_scores = [], []\n",
        "    avg_conc_score = []\n",
        "    adj_mean = []\n",
        "    noun_mean = []\n",
        "    verb_mean = []\n",
        "    with open(f\"{HEAD_DIR}/specificity/data/{f}_concrete.json\") as file:\n",
        "        data_dict = json.load(file)\n",
        "    for _, data in data_dict.items():\n",
        "        for k in (\"zero-shot\", \"few-shot\"):\n",
        "            if k not in data:\n",
        "                continue\n",
        "            for vlm, answers in data[k].items():\n",
        "                if isinstance(answers, dict):\n",
        "                    for w in answers[\"concreteness_words\"]:\n",
        "                        if w[2] >= 5:\n",
        "                            w[2] = 5\n",
        "                        elif w[2] <= 1:\n",
        "                            w[2] = 1\n",
        "                        if w[8] == \"Adjective\":\n",
        "                            adj_mean.append(w[2])\n",
        "                            avg_mean.append(w[2])\n",
        "                            #print(f\"ADJ {w[0]} SCORE {w[2]}\")\n",
        "                        elif w[8] == \"Noun\":\n",
        "                            noun_mean.append(w[2])\n",
        "                            #print(f\"NOUN {w[0]} SCORE {w[2]}\")\n",
        "                            avg_mean.append(w[2])\n",
        "                        elif w[8] == \"Verb\":\n",
        "                            verb_mean.append(w[2])\n",
        "\n",
        "    print(f\"FILE: {f}\")\n",
        "    print(f\"CONCRETENESS NOUN + ADJ: {round(np.mean(avg_mean), 4)} SD: {round(np.std(avg_mean), 4)} MEDIAN: {round(np.median(avg_mean), 4)} SKEWNESS: {skew(avg_mean)} KURTOSIS: {kurtosis(avg_mean)}\")\n",
        "    print(f\"CONCRETENESS MEAN OF {len(noun_mean)} NOUN ONLY: {round(np.mean(noun_mean), 4)} SD: {round(np.std(noun_mean), 4)} MEDIAN: {round(np.median(noun_mean), 4)} SKEWNESS: {skew(noun_mean)} KURTOSIS: {kurtosis(noun_mean)}\")\n",
        "    print(f\"CONCRETENESS MEAN {len(adj_mean)} ADJ ONLY: {round(np.mean(adj_mean), 4)} SD: {round(np.std(adj_mean), 4)} MEDIAN: {round(np.median(adj_mean), 4)} SKEWNESS: {skew(adj_mean)} KURTOSIS: {kurtosis(adj_mean)}\")\n",
        "    print(f\"CONCRETENESS MEAN OF {len(verb_mean)} VERB ONLY: {round(np.mean(verb_mean), 4)} SD: {round(np.std(verb_mean), 4)} MEDIAN: {round(np.median(verb_mean), 4)} SKEWNESS: {skew(verb_mean)} KURTOSIS: {kurtosis(verb_mean)}\")\n",
        "    print()"
      ],
      "metadata": {
        "colab": {
          "base_uri": "https://localhost:8080/"
        },
        "id": "Td32YODxDJg0",
        "outputId": "7f8e3b05-0045-424e-ef62-04401a672e95"
      },
      "execution_count": null,
      "outputs": [
        {
          "output_type": "stream",
          "name": "stdout",
          "text": [
            "FILE: negation_features_true_positive\n",
            "CONCRETENESS NOUN + ADJ: 3.2521 SD: 0.8329 MEDIAN: 3.3757 SKEWNESS: 0.011225970479461549 KURTOSIS: -0.7114314138725937\n",
            "CONCRETENESS MEAN OF 11705 NOUN ONLY: 3.5101 SD: 0.6898 MEDIAN: 3.5626 SKEWNESS: 0.09564130932329733 KURTOSIS: -0.381653349394778\n",
            "CONCRETENESS MEAN 3692 ADJ ONLY: 2.4342 SD: 0.7103 MEDIAN: 2.0859 SKEWNESS: 1.3687570409526078 KURTOSIS: 1.42604093740972\n",
            "CONCRETENESS MEAN OF 6666 VERB ONLY: 2.6549 SD: 0.5633 MEDIAN: 2.541 SKEWNESS: 0.7217169110379024 KURTOSIS: 0.4363466058880694\n",
            "\n",
            "FILE: negation_features_false_positive\n",
            "CONCRETENESS NOUN + ADJ: 3.2509 SD: 0.8339 MEDIAN: 3.3757 SKEWNESS: 0.0210197971631061 KURTOSIS: -0.7191954775787388\n",
            "CONCRETENESS MEAN OF 2489 NOUN ONLY: 3.5017 SD: 0.7077 MEDIAN: 3.5626 SKEWNESS: 0.09270036368074026 KURTOSIS: -0.46809846564893487\n",
            "CONCRETENESS MEAN 796 ADJ ONLY: 2.4424 SD: 0.6952 MEDIAN: 2.1546 SKEWNESS: 1.4293423542178614 KURTOSIS: 1.758430051076063\n",
            "CONCRETENESS MEAN OF 1518 VERB ONLY: 2.584 SD: 0.5461 MEDIAN: 2.541 SKEWNESS: 0.8066450527164929 KURTOSIS: 0.7775043299645761\n",
            "\n",
            "FILE: negation_features_true_negative\n",
            "CONCRETENESS NOUN + ADJ: 3.2311 SD: 0.8224 MEDIAN: 3.2895 SKEWNESS: 0.08706359576327637 KURTOSIS: -0.7148460794915237\n",
            "CONCRETENESS MEAN OF 12288 NOUN ONLY: 3.4148 SD: 0.7204 MEDIAN: 3.5301 SKEWNESS: 0.17434436326396535 KURTOSIS: -0.6170520359953486\n",
            "CONCRETENESS MEAN 3551 ADJ ONLY: 2.4915 SD: 0.6743 MEDIAN: 2.244 SKEWNESS: 1.1952858754799545 KURTOSIS: 1.2750735152469606\n",
            "CONCRETENESS MEAN OF 8128 VERB ONLY: 2.5676 SD: 0.5138 MEDIAN: 2.5353 SKEWNESS: 0.864719686133311 KURTOSIS: 1.349563508764553\n",
            "\n",
            "FILE: negation_features_false_negative\n",
            "CONCRETENESS NOUN + ADJ: 3.2349 SD: 0.8222 MEDIAN: 3.2895 SKEWNESS: 0.08583662783416314 KURTOSIS: -0.7102561827047191\n",
            "CONCRETENESS MEAN OF 2907 NOUN ONLY: 3.4871 SD: 0.7105 MEDIAN: 3.5626 SKEWNESS: 0.14875259570673832 KURTOSIS: -0.5476754983738576\n",
            "CONCRETENESS MEAN 859 ADJ ONLY: 2.5357 SD: 0.7337 MEDIAN: 2.2596 SKEWNESS: 1.107075614754997 KURTOSIS: 0.8075679405208067\n",
            "CONCRETENESS MEAN OF 1945 VERB ONLY: 2.5887 SD: 0.5452 MEDIAN: 2.5353 SKEWNESS: 0.8648250716302819 KURTOSIS: 0.7656135515381743\n",
            "\n"
          ]
        }
      ]
    },
    {
      "cell_type": "markdown",
      "source": [
        "## Plot the concreteness score distribution"
      ],
      "metadata": {
        "id": "LI3h7QvQHr8G"
      }
    },
    {
      "cell_type": "code",
      "source": [
        "import matplotlib.pyplot as plt\n",
        "\n",
        "def get_hist(f, score_list, score_list2=None, extra=None):\n",
        "    f_name = \" \".join(f.split(\"_\")[-2:]).capitalize()\n",
        "    if extra is not None:\n",
        "        f_name = f\"{f_name} {extra}\"\n",
        "\n",
        "    if score_list2 is None:\n",
        "        # Single dataset\n",
        "        plt.figure(figsize=(7, 5))\n",
        "        plt.hist(score_list, bins=10, edgecolor='white', alpha=0.8)\n",
        "    else:\n",
        "        # Two datasets\n",
        "        plt.figure(figsize=(10, 7))\n",
        "        plt.hist([score_list, score_list2], bins=10,\n",
        "                 label=['Noun', 'Adjective'],\n",
        "                 edgecolor='white', alpha=0.6, histtype='stepfilled')\n",
        "        plt.legend()\n",
        "\n",
        "    plt.xlabel(\"Concreteness\", fontsize=10)\n",
        "    plt.ylabel(\"Number of words\", fontsize=10)\n",
        "    plt.title(f\"{f_name} Concreteness Score Distribution\", fontsize=15)\n",
        "    plt.grid(axis='y', color='gray', linestyle='--', alpha=0.5)\n",
        "\n",
        "    plt.savefig(f\"{HEAD_DIR}/concreteness/concreteness_{f}.pdf\",bbox_inches=\"tight\")\n",
        "    plt.show()\n"
      ],
      "metadata": {
        "id": "-pulRTQUVnHz"
      },
      "execution_count": null,
      "outputs": []
    },
    {
      "cell_type": "code",
      "source": [
        "get_hist(f, noun_mean, adj_mean)"
      ],
      "metadata": {
        "colab": {
          "base_uri": "https://localhost:8080/",
          "height": 643
        },
        "id": "P79vGfcVAlUk",
        "outputId": "72851b55-68f3-4c73-cd97-51fe98456b80"
      },
      "execution_count": null,
      "outputs": [
        {
          "output_type": "display_data",
          "data": {
            "text/plain": [
              "<Figure size 1000x700 with 1 Axes>"
            ],
            "image/png": "[encoded data removed]"
          },
          "metadata": {}
        }
      ]
    }
  ],
  "metadata": {
    "colab": {
      "provenance": []
    },
    "kernelspec": {
      "display_name": "Python 3",
      "language": "python",
      "name": "python3"
    },
    "language_info": {
      "codemirror_mode": {
        "name": "ipython",
        "version": 3
      },
      "file_extension": ".py",
      "mimetype": "text/x-python",
      "name": "python",
      "nbconvert_exporter": "python",
      "pygments_lexer": "ipython3",
      "version": "3.8.8"
    },
    "varInspector": {
      "cols": {
        "lenName": 16,
        "lenType": 16,
        "lenVar": 40
      },
      "kernels_config": {
        "python": {
          "delete_cmd_postfix": "",
          "delete_cmd_prefix": "del ",
          "library": "var_list.py",
          "varRefreshCmd": "print(var_dic_list())"
        },
        "r": {
          "delete_cmd_postfix": ") ",
          "delete_cmd_prefix": "rm(",
          "library": "var_list.r",
          "varRefreshCmd": "cat(var_dic_list()) "
        }
      },
      "types_to_exclude": [
        "module",
        "function",
        "builtin_function_or_method",
        "instance",
        "_Feature"
      ],
      "window_display": false
    }
  },
  "nbformat": 4,
  "nbformat_minor": 0
}